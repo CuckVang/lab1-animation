{
 "cells": [
  {
   "cell_type": "code",
   "execution_count": 10,
   "id": "793855f6-89aa-4b1a-8e2b-324ab740ff4d",
   "metadata": {},
   "outputs": [],
   "source": [
    "import tkinter as tk\n",
    "\n",
    "def draw_fractal(canvas, x, y, r, level, max_level):\n",
    "    # Рисуем круг\n",
    "    canvas.create_oval(x - r, y - r, x + r, y + r, outline=\"white\")\n",
    "\n",
    "    # Условие остановки\n",
    "    if level >= max_level or r < 10:\n",
    "        return\n",
    "\n",
    "    # Радиус внутренних кругов\n",
    "    new_r = r / 2.5\n",
    "\n",
    "    # Координаты центров внутренних кругов (чуть ближе к центру)\n",
    "    left_x = x - r / 2\n",
    "    right_x = x + r / 2\n",
    "\n",
    "    # Рисуем два меньших круга\n",
    "    draw_fractal(canvas, left_x, y, new_r, level + 1, max_level)\n",
    "    draw_fractal(canvas, right_x, y, new_r, level + 1, max_level)\n",
    "\n",
    "\n",
    "def main():\n",
    "    # Создаём окно\n",
    "    root = tk.Tk()\n",
    "    root.title(\"Фрактал — Рекурсия с кругами\")\n",
    "\n",
    "    # Холст\n",
    "    canvas = tk.Canvas(root, width=800, height=800, bg=\"black\")\n",
    "    canvas.pack()\n",
    "\n",
    "    # Рисуем фрактал (x, y, радиус, уровень, макс уровень)\n",
    "    draw_fractal(canvas, 400, 400, 300, 0, 4)\n",
    "\n",
    "    root.mainloop()\n",
    "\n",
    "\n",
    "if __name__ == \"__main__\":\n",
    "    main()"
   ]
  },
  {
   "cell_type": "code",
   "execution_count": null,
   "id": "f8fcd977-e1f3-4cc3-a3a7-239c7c91ad84",
   "metadata": {},
   "outputs": [],
   "source": []
  },
  {
   "cell_type": "code",
   "execution_count": null,
   "id": "ff8d29d8-4d01-4722-87cc-affe2222ecf5",
   "metadata": {},
   "outputs": [],
   "source": []
  }
 ],
 "metadata": {
  "kernelspec": {
   "display_name": "Python 3 (ipykernel)",
   "language": "python",
   "name": "python3"
  },
  "language_info": {
   "codemirror_mode": {
    "name": "ipython",
    "version": 3
   },
   "file_extension": ".py",
   "mimetype": "text/x-python",
   "name": "python",
   "nbconvert_exporter": "python",
   "pygments_lexer": "ipython3",
   "version": "3.12.4"
  }
 },
 "nbformat": 4,
 "nbformat_minor": 5
}
